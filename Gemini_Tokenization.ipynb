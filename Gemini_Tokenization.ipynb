{
  "nbformat": 4,
  "nbformat_minor": 0,
  "metadata": {
    "colab": {
      "provenance": []
    },
    "kernelspec": {
      "name": "python3",
      "display_name": "Python 3"
    },
    "language_info": {
      "name": "python"
    }
  },
  "cells": [
    {
      "cell_type": "code",
      "execution_count": 15,
      "metadata": {
        "colab": {
          "base_uri": "https://localhost:8080/"
        },
        "id": "fhUxzfRgI6v9",
        "outputId": "6027243e-55db-48e9-92ac-b794c630e651"
      },
      "outputs": [
        {
          "output_type": "stream",
          "name": "stdout",
          "text": [
            "Requirement already satisfied: google-cloud-aiplatform[tokenization] in /usr/local/lib/python3.10/dist-packages (1.70.0)\n",
            "Requirement already satisfied: google-api-core!=2.0.*,!=2.1.*,!=2.2.*,!=2.3.*,!=2.4.*,!=2.5.*,!=2.6.*,!=2.7.*,<3.0.0dev,>=1.34.1 in /usr/local/lib/python3.10/dist-packages (from google-api-core[grpc]!=2.0.*,!=2.1.*,!=2.2.*,!=2.3.*,!=2.4.*,!=2.5.*,!=2.6.*,!=2.7.*,<3.0.0dev,>=1.34.1->google-cloud-aiplatform[tokenization]) (2.19.2)\n",
            "Requirement already satisfied: google-auth<3.0.0dev,>=2.14.1 in /usr/local/lib/python3.10/dist-packages (from google-cloud-aiplatform[tokenization]) (2.27.0)\n",
            "Requirement already satisfied: proto-plus<2.0.0dev,>=1.22.3 in /usr/local/lib/python3.10/dist-packages (from google-cloud-aiplatform[tokenization]) (1.24.0)\n",
            "Requirement already satisfied: protobuf!=4.21.0,!=4.21.1,!=4.21.2,!=4.21.3,!=4.21.4,!=4.21.5,<6.0.0dev,>=3.20.2 in /usr/local/lib/python3.10/dist-packages (from google-cloud-aiplatform[tokenization]) (3.20.3)\n",
            "Requirement already satisfied: packaging>=14.3 in /usr/local/lib/python3.10/dist-packages (from google-cloud-aiplatform[tokenization]) (24.1)\n",
            "Requirement already satisfied: google-cloud-storage<3.0.0dev,>=1.32.0 in /usr/local/lib/python3.10/dist-packages (from google-cloud-aiplatform[tokenization]) (2.8.0)\n",
            "Requirement already satisfied: google-cloud-bigquery!=3.20.0,<4.0.0dev,>=1.15.0 in /usr/local/lib/python3.10/dist-packages (from google-cloud-aiplatform[tokenization]) (3.25.0)\n",
            "Requirement already satisfied: google-cloud-resource-manager<3.0.0dev,>=1.3.3 in /usr/local/lib/python3.10/dist-packages (from google-cloud-aiplatform[tokenization]) (1.12.5)\n",
            "Requirement already satisfied: shapely<3.0.0dev in /usr/local/lib/python3.10/dist-packages (from google-cloud-aiplatform[tokenization]) (2.0.6)\n",
            "Requirement already satisfied: pydantic<3 in /usr/local/lib/python3.10/dist-packages (from google-cloud-aiplatform[tokenization]) (2.9.2)\n",
            "Requirement already satisfied: docstring-parser<1 in /usr/local/lib/python3.10/dist-packages (from google-cloud-aiplatform[tokenization]) (0.16)\n",
            "Requirement already satisfied: sentencepiece>=0.2.0 in /usr/local/lib/python3.10/dist-packages (from google-cloud-aiplatform[tokenization]) (0.2.0)\n",
            "Requirement already satisfied: googleapis-common-protos<2.0.dev0,>=1.56.2 in /usr/local/lib/python3.10/dist-packages (from google-api-core!=2.0.*,!=2.1.*,!=2.2.*,!=2.3.*,!=2.4.*,!=2.5.*,!=2.6.*,!=2.7.*,<3.0.0dev,>=1.34.1->google-api-core[grpc]!=2.0.*,!=2.1.*,!=2.2.*,!=2.3.*,!=2.4.*,!=2.5.*,!=2.6.*,!=2.7.*,<3.0.0dev,>=1.34.1->google-cloud-aiplatform[tokenization]) (1.65.0)\n",
            "Requirement already satisfied: requests<3.0.0.dev0,>=2.18.0 in /usr/local/lib/python3.10/dist-packages (from google-api-core!=2.0.*,!=2.1.*,!=2.2.*,!=2.3.*,!=2.4.*,!=2.5.*,!=2.6.*,!=2.7.*,<3.0.0dev,>=1.34.1->google-api-core[grpc]!=2.0.*,!=2.1.*,!=2.2.*,!=2.3.*,!=2.4.*,!=2.5.*,!=2.6.*,!=2.7.*,<3.0.0dev,>=1.34.1->google-cloud-aiplatform[tokenization]) (2.32.3)\n",
            "Requirement already satisfied: grpcio<2.0dev,>=1.33.2 in /usr/local/lib/python3.10/dist-packages (from google-api-core[grpc]!=2.0.*,!=2.1.*,!=2.2.*,!=2.3.*,!=2.4.*,!=2.5.*,!=2.6.*,!=2.7.*,<3.0.0dev,>=1.34.1->google-cloud-aiplatform[tokenization]) (1.64.1)\n",
            "Requirement already satisfied: grpcio-status<2.0.dev0,>=1.33.2 in /usr/local/lib/python3.10/dist-packages (from google-api-core[grpc]!=2.0.*,!=2.1.*,!=2.2.*,!=2.3.*,!=2.4.*,!=2.5.*,!=2.6.*,!=2.7.*,<3.0.0dev,>=1.34.1->google-cloud-aiplatform[tokenization]) (1.48.2)\n",
            "Requirement already satisfied: cachetools<6.0,>=2.0.0 in /usr/local/lib/python3.10/dist-packages (from google-auth<3.0.0dev,>=2.14.1->google-cloud-aiplatform[tokenization]) (5.5.0)\n",
            "Requirement already satisfied: pyasn1-modules>=0.2.1 in /usr/local/lib/python3.10/dist-packages (from google-auth<3.0.0dev,>=2.14.1->google-cloud-aiplatform[tokenization]) (0.4.1)\n",
            "Requirement already satisfied: rsa<5,>=3.1.4 in /usr/local/lib/python3.10/dist-packages (from google-auth<3.0.0dev,>=2.14.1->google-cloud-aiplatform[tokenization]) (4.9)\n",
            "Requirement already satisfied: google-cloud-core<3.0.0dev,>=1.6.0 in /usr/local/lib/python3.10/dist-packages (from google-cloud-bigquery!=3.20.0,<4.0.0dev,>=1.15.0->google-cloud-aiplatform[tokenization]) (2.4.1)\n",
            "Requirement already satisfied: google-resumable-media<3.0dev,>=0.6.0 in /usr/local/lib/python3.10/dist-packages (from google-cloud-bigquery!=3.20.0,<4.0.0dev,>=1.15.0->google-cloud-aiplatform[tokenization]) (2.7.2)\n",
            "Requirement already satisfied: python-dateutil<3.0dev,>=2.7.2 in /usr/local/lib/python3.10/dist-packages (from google-cloud-bigquery!=3.20.0,<4.0.0dev,>=1.15.0->google-cloud-aiplatform[tokenization]) (2.8.2)\n",
            "Requirement already satisfied: grpc-google-iam-v1<1.0.0dev,>=0.12.4 in /usr/local/lib/python3.10/dist-packages (from google-cloud-resource-manager<3.0.0dev,>=1.3.3->google-cloud-aiplatform[tokenization]) (0.13.1)\n",
            "Requirement already satisfied: annotated-types>=0.6.0 in /usr/local/lib/python3.10/dist-packages (from pydantic<3->google-cloud-aiplatform[tokenization]) (0.7.0)\n",
            "Requirement already satisfied: pydantic-core==2.23.4 in /usr/local/lib/python3.10/dist-packages (from pydantic<3->google-cloud-aiplatform[tokenization]) (2.23.4)\n",
            "Requirement already satisfied: typing-extensions>=4.6.1 in /usr/local/lib/python3.10/dist-packages (from pydantic<3->google-cloud-aiplatform[tokenization]) (4.12.2)\n",
            "Requirement already satisfied: numpy<3,>=1.14 in /usr/local/lib/python3.10/dist-packages (from shapely<3.0.0dev->google-cloud-aiplatform[tokenization]) (1.26.4)\n",
            "Requirement already satisfied: google-crc32c<2.0dev,>=1.0 in /usr/local/lib/python3.10/dist-packages (from google-resumable-media<3.0dev,>=0.6.0->google-cloud-bigquery!=3.20.0,<4.0.0dev,>=1.15.0->google-cloud-aiplatform[tokenization]) (1.6.0)\n",
            "Requirement already satisfied: pyasn1<0.7.0,>=0.4.6 in /usr/local/lib/python3.10/dist-packages (from pyasn1-modules>=0.2.1->google-auth<3.0.0dev,>=2.14.1->google-cloud-aiplatform[tokenization]) (0.6.1)\n",
            "Requirement already satisfied: six>=1.5 in /usr/local/lib/python3.10/dist-packages (from python-dateutil<3.0dev,>=2.7.2->google-cloud-bigquery!=3.20.0,<4.0.0dev,>=1.15.0->google-cloud-aiplatform[tokenization]) (1.16.0)\n",
            "Requirement already satisfied: charset-normalizer<4,>=2 in /usr/local/lib/python3.10/dist-packages (from requests<3.0.0.dev0,>=2.18.0->google-api-core!=2.0.*,!=2.1.*,!=2.2.*,!=2.3.*,!=2.4.*,!=2.5.*,!=2.6.*,!=2.7.*,<3.0.0dev,>=1.34.1->google-api-core[grpc]!=2.0.*,!=2.1.*,!=2.2.*,!=2.3.*,!=2.4.*,!=2.5.*,!=2.6.*,!=2.7.*,<3.0.0dev,>=1.34.1->google-cloud-aiplatform[tokenization]) (3.4.0)\n",
            "Requirement already satisfied: idna<4,>=2.5 in /usr/local/lib/python3.10/dist-packages (from requests<3.0.0.dev0,>=2.18.0->google-api-core!=2.0.*,!=2.1.*,!=2.2.*,!=2.3.*,!=2.4.*,!=2.5.*,!=2.6.*,!=2.7.*,<3.0.0dev,>=1.34.1->google-api-core[grpc]!=2.0.*,!=2.1.*,!=2.2.*,!=2.3.*,!=2.4.*,!=2.5.*,!=2.6.*,!=2.7.*,<3.0.0dev,>=1.34.1->google-cloud-aiplatform[tokenization]) (3.10)\n",
            "Requirement already satisfied: urllib3<3,>=1.21.1 in /usr/local/lib/python3.10/dist-packages (from requests<3.0.0.dev0,>=2.18.0->google-api-core!=2.0.*,!=2.1.*,!=2.2.*,!=2.3.*,!=2.4.*,!=2.5.*,!=2.6.*,!=2.7.*,<3.0.0dev,>=1.34.1->google-api-core[grpc]!=2.0.*,!=2.1.*,!=2.2.*,!=2.3.*,!=2.4.*,!=2.5.*,!=2.6.*,!=2.7.*,<3.0.0dev,>=1.34.1->google-cloud-aiplatform[tokenization]) (2.2.3)\n",
            "Requirement already satisfied: certifi>=2017.4.17 in /usr/local/lib/python3.10/dist-packages (from requests<3.0.0.dev0,>=2.18.0->google-api-core!=2.0.*,!=2.1.*,!=2.2.*,!=2.3.*,!=2.4.*,!=2.5.*,!=2.6.*,!=2.7.*,<3.0.0dev,>=1.34.1->google-api-core[grpc]!=2.0.*,!=2.1.*,!=2.2.*,!=2.3.*,!=2.4.*,!=2.5.*,!=2.6.*,!=2.7.*,<3.0.0dev,>=1.34.1->google-cloud-aiplatform[tokenization]) (2024.8.30)\n"
          ]
        }
      ],
      "source": [
        "!pip install --upgrade google-cloud-aiplatform[tokenization]"
      ]
    },
    {
      "cell_type": "code",
      "source": [
        "from vertexai.preview import tokenization\n",
        "import http.client\n",
        "import typing\n",
        "import urllib.request\n",
        "\n",
        "# Model name - Gemini models:\n",
        "# gemini-1.5-flash-001: Supports text inputs with up to 2,097,152 tokens for advanced comprehension\n",
        "# gemini-1.0-pro: Supports 32,760 tokens, optimized for general-purpose language tasks\n",
        "\n",
        "model_names = [\"gemini-1.5-flash-001\", \"gemini-1.0-pro\"]"
      ],
      "metadata": {
        "id": "xFr2TuEOJH6i"
      },
      "execution_count": 16,
      "outputs": []
    },
    {
      "cell_type": "code",
      "source": [
        "def tokenize_input(model_name, input_text):\n",
        "    try:\n",
        "        tokenizer = tokenization.get_tokenizer_for_model(model_name)\n",
        "\n",
        "        tokens = tokenizer.compute_tokens(input_text)\n",
        "\n",
        "        count = tokenizer.count_tokens(input_text)\n",
        "\n",
        "        return tokens, count\n",
        "    except Exception as e:\n",
        "        print(f\"Error with model {model_name}: {e}\")\n",
        "        return None, None"
      ],
      "metadata": {
        "id": "VHMIys_ZUulw"
      },
      "execution_count": 17,
      "outputs": []
    },
    {
      "cell_type": "code",
      "source": [
        "sample_input = \"\"\"function quicksort(arr) {\n",
        "    if (arr.length <= 1) return arr;\n",
        "    let pivot = arr[Math.floor(arr.length / 2)];\n",
        "    let left = arr.filter(x => x < pivot);\n",
        "    let middle = arr.filter(x => x === pivot);\n",
        "    let right = arr.filter(x => x > pivot);\n",
        "    return quicksort(left).concat(middle, quicksort(right));\n",
        "}\"\"\"\n",
        "\n",
        "for model in model_names:\n",
        "    tokens, token_count = tokenize_input(model, sample_input)\n",
        "    if tokens is not None:\n",
        "        print(f\"Model: {model}\")\n",
        "        print(\"Tokens (Words/Subwords):\", tokens)\n",
        "        print(\"Token Count:\", token_count)\n",
        "        print()"
      ],
      "metadata": {
        "colab": {
          "base_uri": "https://localhost:8080/"
        },
        "id": "GG2NwEKBUzIz",
        "outputId": "f3337765-926b-4dd2-ed25-a85fbacdd590"
      },
      "execution_count": 19,
      "outputs": [
        {
          "output_type": "stream",
          "name": "stdout",
          "text": [
            "Model: gemini-1.5-flash-001\n",
            "Tokens (Words/Subwords): PreviewComputeTokensResult(tokens_info=[TokensInfo(token_ids=[1929, 150524, 641, 235278, 3665, 235275, 612, 108, 141, 648, 591, 3665, 235265, 2737, 5718, 235248, 235274, 235275, 2203, 7137, 235289, 108, 141, 1243, 44591, 589, 7137, 235309, 10278, 235265, 17612, 235278, 3665, 235265, 2737, 1148, 235248, 235284, 43096, 108, 141, 1243, 2731, 589, 7137, 235265, 6395, 235278, 235297, 1236, 1141, 968, 44591, 594, 108, 141, 1243, 7185, 589, 7137, 235265, 6395, 235278, 235297, 1236, 1141, 4637, 44591, 594, 108, 141, 1243, 1833, 589, 7137, 235265, 6395, 235278, 235297, 1236, 1141, 1562, 44591, 594, 108, 141, 773, 150524, 641, 235278, 1672, 846, 24969, 235278, 19161, 235269, 150524, 641, 235278, 1331, 2260, 108, 235270], tokens=[b'function', b' quicks', b'ort', b'(', b'arr', b')', b' {', b'\\n', b'    ', b'if', b' (', b'arr', b'.', b'length', b' <=', b' ', b'1', b')', b' return', b' arr', b';', b'\\n', b'    ', b'let', b' pivot', b' =', b' arr', b'[', b'Math', b'.', b'floor', b'(', b'arr', b'.', b'length', b' /', b' ', b'2', b')];', b'\\n', b'    ', b'let', b' left', b' =', b' arr', b'.', b'filter', b'(', b'x', b' =>', b' x', b' <', b' pivot', b');', b'\\n', b'    ', b'let', b' middle', b' =', b' arr', b'.', b'filter', b'(', b'x', b' =>', b' x', b' ===', b' pivot', b');', b'\\n', b'    ', b'let', b' right', b' =', b' arr', b'.', b'filter', b'(', b'x', b' =>', b' x', b' >', b' pivot', b');', b'\\n', b'    ', b'return', b' quicks', b'ort', b'(', b'left', b').', b'concat', b'(', b'middle', b',', b' quicks', b'ort', b'(', b'right', b'));', b'\\n', b'}'], role='user')])\n",
            "Token Count: CountTokensResult(total_tokens=103)\n",
            "\n",
            "Model: gemini-1.0-pro\n",
            "Tokens (Words/Subwords): PreviewComputeTokensResult(tokens_info=[TokensInfo(token_ids=[1929, 150524, 641, 235278, 3665, 235275, 612, 108, 141, 648, 591, 3665, 235265, 2737, 5718, 235248, 235274, 235275, 2203, 7137, 235289, 108, 141, 1243, 44591, 589, 7137, 235309, 10278, 235265, 17612, 235278, 3665, 235265, 2737, 1148, 235248, 235284, 43096, 108, 141, 1243, 2731, 589, 7137, 235265, 6395, 235278, 235297, 1236, 1141, 968, 44591, 594, 108, 141, 1243, 7185, 589, 7137, 235265, 6395, 235278, 235297, 1236, 1141, 4637, 44591, 594, 108, 141, 1243, 1833, 589, 7137, 235265, 6395, 235278, 235297, 1236, 1141, 1562, 44591, 594, 108, 141, 773, 150524, 641, 235278, 1672, 846, 24969, 235278, 19161, 235269, 150524, 641, 235278, 1331, 2260, 108, 235270], tokens=[b'function', b' quicks', b'ort', b'(', b'arr', b')', b' {', b'\\n', b'    ', b'if', b' (', b'arr', b'.', b'length', b' <=', b' ', b'1', b')', b' return', b' arr', b';', b'\\n', b'    ', b'let', b' pivot', b' =', b' arr', b'[', b'Math', b'.', b'floor', b'(', b'arr', b'.', b'length', b' /', b' ', b'2', b')];', b'\\n', b'    ', b'let', b' left', b' =', b' arr', b'.', b'filter', b'(', b'x', b' =>', b' x', b' <', b' pivot', b');', b'\\n', b'    ', b'let', b' middle', b' =', b' arr', b'.', b'filter', b'(', b'x', b' =>', b' x', b' ===', b' pivot', b');', b'\\n', b'    ', b'let', b' right', b' =', b' arr', b'.', b'filter', b'(', b'x', b' =>', b' x', b' >', b' pivot', b');', b'\\n', b'    ', b'return', b' quicks', b'ort', b'(', b'left', b').', b'concat', b'(', b'middle', b',', b' quicks', b'ort', b'(', b'right', b'));', b'\\n', b'}'], role='user')])\n",
            "Token Count: CountTokensResult(total_tokens=103)\n",
            "\n"
          ]
        }
      ]
    }
  ]
}