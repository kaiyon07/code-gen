{
 "cells": [
  {
   "cell_type": "code",
   "id": "initial_id",
   "metadata": {
    "collapsed": true,
    "ExecuteTime": {
     "end_time": "2024-11-30T00:48:07.739914Z",
     "start_time": "2024-11-30T00:48:07.216050Z"
    }
   },
   "source": [
    "from evaluator import evaluate_batch\n",
    "import os\n",
    "from pathlib import Path\n",
    "import datetime"
   ],
   "outputs": [],
   "execution_count": 1
  },
  {
   "metadata": {
    "ExecuteTime": {
     "end_time": "2024-11-30T00:49:25.497468Z",
     "start_time": "2024-11-30T00:49:25.489983Z"
    }
   },
   "cell_type": "code",
   "source": [
    "def process_directory_structure(source_root, dest_root, func, verbose=True):\n",
    "    \"\"\"\n",
    "    Walks through a directory structure and applies a processing function to each file\n",
    "    while maintaining the same hierarchy in the destination directory.\n",
    "    \n",
    "    Args:\n",
    "        source_root (str): Path to the source root directory\n",
    "        dest_root (str): Path to the destination root directory\n",
    "        func (callable): Function that takes (input_path, output_path) as arguments\n",
    "        verbose (bool): Print the name of each file processed\n",
    "    \"\"\"\n",
    "    iso_time = lambda: datetime.datetime.now().astimezone().replace(microsecond=0).isoformat()\n",
    "    \n",
    "    source_path = Path(source_root)\n",
    "    dest_path = Path(dest_root)\n",
    "    \n",
    "    dest_path.mkdir(parents=True, exist_ok=True)\n",
    "    \n",
    "    for root, dirs, files in os.walk(source_path):\n",
    "        current_root = Path(root)\n",
    "        \n",
    "        rel_path = current_root.relative_to(source_path)\n",
    "        \n",
    "        dest_dir = dest_path / rel_path\n",
    "        dest_dir.mkdir(parents=True, exist_ok=True)\n",
    "        \n",
    "        for file in files:\n",
    "            source_file = current_root / file\n",
    "            dest_file = dest_dir / file\n",
    "            \n",
    "            if not dest_file.exists():\n",
    "                if verbose:\n",
    "                    print('[{time}] Processing {src} to {dest}'.format(time=iso_time(), src=source_file, dest=dest_file))\n",
    "                \n",
    "                func(str(source_file), str(dest_file))\n",
    "                \n",
    "                if verbose:\n",
    "                    print('[{time}] Completed {src}'.format(time=iso_time(), src=source_file))\n",
    "            else:\n",
    "                if verbose:\n",
    "                    print('[{time}] Skipping {src}, already processed'.format(time=iso_time(), src=source_file))\n"
   ],
   "id": "32d5d40d7986b1bf",
   "outputs": [],
   "execution_count": 2
  },
  {
   "metadata": {
    "ExecuteTime": {
     "end_time": "2024-11-26T17:11:38.137990Z",
     "start_time": "2024-11-26T05:58:11.918707Z"
    }
   },
   "cell_type": "code",
   "source": "process_directory_structure('./output_files', './evaluation_files', evaluate_batch)",
   "id": "2b3522afe6265fd6",
   "outputs": [
    {
     "name": "stdout",
     "output_type": "stream",
     "text": [
      "[2024-11-25T21:58:11-08:00] Processing output_files/openai_results_temp_0/PROMPT_REFACTOR_V1_gpt-4-turbo.csv to evaluation_files/openai_results_temp_0/PROMPT_REFACTOR_V1_gpt-4-turbo.csv\n",
      "[2024-11-25T22:07:42-08:00] Completed output_files/openai_results_temp_0/PROMPT_REFACTOR_V1_gpt-4-turbo.csv\n",
      "[2024-11-25T22:07:42-08:00] Processing output_files/openai_results_temp_0/CODE_GEN_V1_gpt-4-turbo.csv to evaluation_files/openai_results_temp_0/CODE_GEN_V1_gpt-4-turbo.csv\n",
      "[2024-11-25T22:13:27-08:00] Completed output_files/openai_results_temp_0/CODE_GEN_V1_gpt-4-turbo.csv\n",
      "[2024-11-25T22:13:27-08:00] Processing output_files/openai_results_temp_0/PROMPT_REFACTOR_V2_gpt-4-turbo.csv to evaluation_files/openai_results_temp_0/PROMPT_REFACTOR_V2_gpt-4-turbo.csv\n",
      "[2024-11-25T22:19:21-08:00] Completed output_files/openai_results_temp_0/PROMPT_REFACTOR_V2_gpt-4-turbo.csv\n",
      "[2024-11-25T22:19:21-08:00] Processing output_files/openai_results_temp_0/CODE_REFACTOR_V1_gpt-3.5-turbo.csv to evaluation_files/openai_results_temp_0/CODE_REFACTOR_V1_gpt-3.5-turbo.csv\n",
      "[2024-11-25T22:25:22-08:00] Completed output_files/openai_results_temp_0/CODE_REFACTOR_V1_gpt-3.5-turbo.csv\n",
      "[2024-11-25T22:25:22-08:00] Processing output_files/openai_results_temp_0/CODE_REFACTOR_V2_gpt-3.5-turbo.csv to evaluation_files/openai_results_temp_0/CODE_REFACTOR_V2_gpt-3.5-turbo.csv\n",
      "[2024-11-25T22:31:12-08:00] Completed output_files/openai_results_temp_0/CODE_REFACTOR_V2_gpt-3.5-turbo.csv\n",
      "[2024-11-25T22:31:12-08:00] Processing output_files/openai_results_temp_0/CODE_GEN_V1_gpt-3.5-turbo.csv to evaluation_files/openai_results_temp_0/CODE_GEN_V1_gpt-3.5-turbo.csv\n",
      "[2024-11-25T22:36:59-08:00] Completed output_files/openai_results_temp_0/CODE_GEN_V1_gpt-3.5-turbo.csv\n",
      "[2024-11-25T22:36:59-08:00] Processing output_files/openai_results_temp_0/CODE_REFACTOR_V3_gpt-3.5-turbo.csv to evaluation_files/openai_results_temp_0/CODE_REFACTOR_V3_gpt-3.5-turbo.csv\n",
      "[2024-11-25T22:42:44-08:00] Completed output_files/openai_results_temp_0/CODE_REFACTOR_V3_gpt-3.5-turbo.csv\n",
      "[2024-11-25T22:42:44-08:00] Processing output_files/openai_results_temp_0/PROMPT_REFACTOR_V3_gpt-4-turbo.csv to evaluation_files/openai_results_temp_0/PROMPT_REFACTOR_V3_gpt-4-turbo.csv\n",
      "[2024-11-25T22:48:31-08:00] Completed output_files/openai_results_temp_0/PROMPT_REFACTOR_V3_gpt-4-turbo.csv\n",
      "[2024-11-25T22:48:31-08:00] Processing output_files/gemini_results_temp_0.2/gemini-1.5-flash_REFACTOR_V2_results.csv to evaluation_files/gemini_results_temp_0.2/gemini-1.5-flash_REFACTOR_V2_results.csv\n",
      "[2024-11-25T23:22:51-08:00] Completed output_files/gemini_results_temp_0.2/gemini-1.5-flash_REFACTOR_V2_results.csv\n",
      "[2024-11-25T23:22:51-08:00] Processing output_files/gemini_results_temp_0.2/gemini-1.5-pro_REFACTOR_V5_results.csv to evaluation_files/gemini_results_temp_0.2/gemini-1.5-pro_REFACTOR_V5_results.csv\n",
      "[2024-11-25T23:28:23-08:00] Completed output_files/gemini_results_temp_0.2/gemini-1.5-pro_REFACTOR_V5_results.csv\n",
      "[2024-11-25T23:28:23-08:00] Processing output_files/gemini_results_temp_0.2/gemini-1.5-pro_CODE_GEN_V1_results.csv to evaluation_files/gemini_results_temp_0.2/gemini-1.5-pro_CODE_GEN_V1_results.csv\n",
      "[2024-11-25T23:41:57-08:00] Completed output_files/gemini_results_temp_0.2/gemini-1.5-pro_CODE_GEN_V1_results.csv\n",
      "[2024-11-25T23:41:57-08:00] Processing output_files/gemini_results_temp_0.2/gemini-1.5-flash_REFACTOR_V1_results.csv to evaluation_files/gemini_results_temp_0.2/gemini-1.5-flash_REFACTOR_V1_results.csv\n",
      "[2024-11-25T23:49:23-08:00] Completed output_files/gemini_results_temp_0.2/gemini-1.5-flash_REFACTOR_V1_results.csv\n",
      "[2024-11-25T23:49:23-08:00] Processing output_files/gemini_results_temp_0.2/gemini-1.5-pro_REFACTOR_V3_results.csv to evaluation_files/gemini_results_temp_0.2/gemini-1.5-pro_REFACTOR_V3_results.csv\n",
      "[2024-11-25T23:54:56-08:00] Completed output_files/gemini_results_temp_0.2/gemini-1.5-pro_REFACTOR_V3_results.csv\n",
      "[2024-11-25T23:54:56-08:00] Processing output_files/gemini_results_temp_0.2/gemini-1.5-flash_CODE_GEN_V1_results.csv to evaluation_files/gemini_results_temp_0.2/gemini-1.5-flash_CODE_GEN_V1_results.csv\n",
      "[2024-11-26T00:00:30-08:00] Completed output_files/gemini_results_temp_0.2/gemini-1.5-flash_CODE_GEN_V1_results.csv\n",
      "[2024-11-26T00:00:30-08:00] Processing output_files/gemini_results_temp_0.2/gemini-1.5-pro_REFACTOR_V1_results.csv to evaluation_files/gemini_results_temp_0.2/gemini-1.5-pro_REFACTOR_V1_results.csv\n",
      "[2024-11-26T00:06:00-08:00] Completed output_files/gemini_results_temp_0.2/gemini-1.5-pro_REFACTOR_V1_results.csv\n",
      "[2024-11-26T00:06:00-08:00] Processing output_files/gemini_results_temp_0.2/gemini-1.5-flash_REFACTOR_V3_results.csv to evaluation_files/gemini_results_temp_0.2/gemini-1.5-flash_REFACTOR_V3_results.csv\n",
      "[2024-11-26T00:11:33-08:00] Completed output_files/gemini_results_temp_0.2/gemini-1.5-flash_REFACTOR_V3_results.csv\n",
      "[2024-11-26T00:11:33-08:00] Processing output_files/gemini_results_temp_0.2/gemini-1.5-pro_REFACTOR_V2_results.csv to evaluation_files/gemini_results_temp_0.2/gemini-1.5-pro_REFACTOR_V2_results.csv\n",
      "[2024-11-26T00:17:05-08:00] Completed output_files/gemini_results_temp_0.2/gemini-1.5-pro_REFACTOR_V2_results.csv\n",
      "[2024-11-26T00:17:05-08:00] Processing output_files/gemini_results_temp_0.2/gemini-1.5-flash_REFACTOR_V5_results.csv to evaluation_files/gemini_results_temp_0.2/gemini-1.5-flash_REFACTOR_V5_results.csv\n",
      "[2024-11-26T00:22:43-08:00] Completed output_files/gemini_results_temp_0.2/gemini-1.5-flash_REFACTOR_V5_results.csv\n",
      "[2024-11-26T00:22:43-08:00] Processing output_files/gemini_results_temp_0/gemini-1.5-flash_REFACTOR_V2_results.csv to evaluation_files/gemini_results_temp_0/gemini-1.5-flash_REFACTOR_V2_results.csv\n",
      "[2024-11-26T08:34:44-08:00] Completed output_files/gemini_results_temp_0/gemini-1.5-flash_REFACTOR_V2_results.csv\n",
      "[2024-11-26T08:34:44-08:00] Processing output_files/gemini_results_temp_0/gemini-1.5-pro_CODE_GEN_V1_results.csv to evaluation_files/gemini_results_temp_0/gemini-1.5-pro_CODE_GEN_V1_results.csv\n",
      "[2024-11-26T08:40:16-08:00] Completed output_files/gemini_results_temp_0/gemini-1.5-pro_CODE_GEN_V1_results.csv\n",
      "[2024-11-26T08:40:16-08:00] Processing output_files/gemini_results_temp_0/gemini-1.5-flash_REFACTOR_V1_results.csv to evaluation_files/gemini_results_temp_0/gemini-1.5-flash_REFACTOR_V1_results.csv\n",
      "[2024-11-26T08:45:45-08:00] Completed output_files/gemini_results_temp_0/gemini-1.5-flash_REFACTOR_V1_results.csv\n",
      "[2024-11-26T08:45:45-08:00] Processing output_files/gemini_results_temp_0/gemini-1.5-flash_CODE_GEN_V1_results.csv to evaluation_files/gemini_results_temp_0/gemini-1.5-flash_CODE_GEN_V1_results.csv\n",
      "[2024-11-26T08:51:15-08:00] Completed output_files/gemini_results_temp_0/gemini-1.5-flash_CODE_GEN_V1_results.csv\n",
      "[2024-11-26T08:51:15-08:00] Processing output_files/gemini_results_temp_0/gemini-1.5-flash_REFACTOR_V3_results.csv to evaluation_files/gemini_results_temp_0/gemini-1.5-flash_REFACTOR_V3_results.csv\n",
      "[2024-11-26T09:06:06-08:00] Completed output_files/gemini_results_temp_0/gemini-1.5-flash_REFACTOR_V3_results.csv\n",
      "[2024-11-26T09:06:06-08:00] Processing output_files/gemini_results_temp_0/gemini-1.5-flash_REFACTOR_V5_results.csv to evaluation_files/gemini_results_temp_0/gemini-1.5-flash_REFACTOR_V5_results.csv\n",
      "[2024-11-26T09:11:38-08:00] Completed output_files/gemini_results_temp_0/gemini-1.5-flash_REFACTOR_V5_results.csv\n"
     ]
    }
   ],
   "execution_count": 3
  },
  {
   "metadata": {
    "ExecuteTime": {
     "end_time": "2024-11-27T09:27:08.346375Z",
     "start_time": "2024-11-27T05:00:38.983238Z"
    }
   },
   "cell_type": "code",
   "source": "process_directory_structure('./output_files', './evaluation_files', evaluate_batch)",
   "id": "a4ca6e2bd4115b1",
   "outputs": [
    {
     "name": "stdout",
     "output_type": "stream",
     "text": [
      "[2024-11-26T21:00:38-08:00] Processing output_files/result_gemini/results_gemini_0.2/gemini-1.5-flash_REFACTOR_V2_results.csv to evaluation_files/result_gemini/results_gemini_0.2/gemini-1.5-flash_REFACTOR_V2_results.csv\n"
     ]
    },
    {
     "name": "stderr",
     "output_type": "stream",
     "text": [
      "50it [06:29,  7.78s/it]\n"
     ]
    },
    {
     "name": "stdout",
     "output_type": "stream",
     "text": [
      "[2024-11-26T21:07:08-08:00] Completed output_files/result_gemini/results_gemini_0.2/gemini-1.5-flash_REFACTOR_V2_results.csv\n",
      "[2024-11-26T21:07:08-08:00] Processing output_files/result_gemini/results_gemini_0.2/gemini-1.5-pro_REFACTOR_V5_results.csv to evaluation_files/result_gemini/results_gemini_0.2/gemini-1.5-pro_REFACTOR_V5_results.csv\n"
     ]
    },
    {
     "name": "stderr",
     "output_type": "stream",
     "text": [
      "50it [05:25,  6.51s/it]\n"
     ]
    },
    {
     "name": "stdout",
     "output_type": "stream",
     "text": [
      "[2024-11-26T21:12:33-08:00] Completed output_files/result_gemini/results_gemini_0.2/gemini-1.5-pro_REFACTOR_V5_results.csv\n",
      "[2024-11-26T21:12:33-08:00] Processing output_files/result_gemini/results_gemini_0.2/gemini-1.5-flash_REFACTOR_V4_results.csv to evaluation_files/result_gemini/results_gemini_0.2/gemini-1.5-flash_REFACTOR_V4_results.csv\n"
     ]
    },
    {
     "name": "stderr",
     "output_type": "stream",
     "text": [
      "50it [06:25,  7.70s/it]\n"
     ]
    },
    {
     "name": "stdout",
     "output_type": "stream",
     "text": [
      "[2024-11-26T21:18:58-08:00] Completed output_files/result_gemini/results_gemini_0.2/gemini-1.5-flash_REFACTOR_V4_results.csv\n",
      "[2024-11-26T21:18:58-08:00] Processing output_files/result_gemini/results_gemini_0.2/gemini-1.5-pro_REFACTOR_results.csv to evaluation_files/result_gemini/results_gemini_0.2/gemini-1.5-pro_REFACTOR_results.csv\n"
     ]
    },
    {
     "name": "stderr",
     "output_type": "stream",
     "text": [
      "50it [05:44,  6.89s/it]\n"
     ]
    },
    {
     "name": "stdout",
     "output_type": "stream",
     "text": [
      "[2024-11-26T21:24:43-08:00] Completed output_files/result_gemini/results_gemini_0.2/gemini-1.5-pro_REFACTOR_results.csv\n",
      "[2024-11-26T21:24:43-08:00] Processing output_files/result_gemini/results_gemini_0.2/gemini-1.5-pro_REFACTOR_V3_results.csv to evaluation_files/result_gemini/results_gemini_0.2/gemini-1.5-pro_REFACTOR_V3_results.csv\n"
     ]
    },
    {
     "name": "stderr",
     "output_type": "stream",
     "text": [
      "50it [05:46,  6.92s/it]\n"
     ]
    },
    {
     "name": "stdout",
     "output_type": "stream",
     "text": [
      "[2024-11-26T21:30:29-08:00] Completed output_files/result_gemini/results_gemini_0.2/gemini-1.5-pro_REFACTOR_V3_results.csv\n",
      "[2024-11-26T21:30:29-08:00] Processing output_files/result_gemini/results_gemini_0.2/gemini-1.5-pro_REFACTOR_V4_results.csv to evaluation_files/result_gemini/results_gemini_0.2/gemini-1.5-pro_REFACTOR_V4_results.csv\n"
     ]
    },
    {
     "name": "stderr",
     "output_type": "stream",
     "text": [
      "50it [06:31,  7.82s/it]\n"
     ]
    },
    {
     "name": "stdout",
     "output_type": "stream",
     "text": [
      "[2024-11-26T21:37:00-08:00] Completed output_files/result_gemini/results_gemini_0.2/gemini-1.5-pro_REFACTOR_V4_results.csv\n",
      "[2024-11-26T21:37:00-08:00] Processing output_files/result_gemini/results_gemini_0.2/gemini-1.5-flash_CODEGEN_results.csv to evaluation_files/result_gemini/results_gemini_0.2/gemini-1.5-flash_CODEGEN_results.csv\n"
     ]
    },
    {
     "name": "stderr",
     "output_type": "stream",
     "text": [
      "50it [05:27,  6.54s/it]\n"
     ]
    },
    {
     "name": "stdout",
     "output_type": "stream",
     "text": [
      "[2024-11-26T21:42:27-08:00] Completed output_files/result_gemini/results_gemini_0.2/gemini-1.5-flash_CODEGEN_results.csv\n",
      "[2024-11-26T21:42:27-08:00] Processing output_files/result_gemini/results_gemini_0.2/gemini-1.5-pro_CODEGEN_results.csv to evaluation_files/result_gemini/results_gemini_0.2/gemini-1.5-pro_CODEGEN_results.csv\n"
     ]
    },
    {
     "name": "stderr",
     "output_type": "stream",
     "text": [
      "50it [05:13,  6.27s/it]\n"
     ]
    },
    {
     "name": "stdout",
     "output_type": "stream",
     "text": [
      "[2024-11-26T21:47:41-08:00] Completed output_files/result_gemini/results_gemini_0.2/gemini-1.5-pro_CODEGEN_results.csv\n",
      "[2024-11-26T21:47:41-08:00] Processing output_files/result_gemini/results_gemini_0.2/gemini-1.5-flash_REFACTOR_V3_results.csv to evaluation_files/result_gemini/results_gemini_0.2/gemini-1.5-flash_REFACTOR_V3_results.csv\n"
     ]
    },
    {
     "name": "stderr",
     "output_type": "stream",
     "text": [
      "50it [05:18,  6.36s/it]\n"
     ]
    },
    {
     "name": "stdout",
     "output_type": "stream",
     "text": [
      "[2024-11-26T21:52:59-08:00] Completed output_files/result_gemini/results_gemini_0.2/gemini-1.5-flash_REFACTOR_V3_results.csv\n",
      "[2024-11-26T21:52:59-08:00] Processing output_files/result_gemini/results_gemini_0.2/gemini-1.5-pro_REFACTOR_V2_results.csv to evaluation_files/result_gemini/results_gemini_0.2/gemini-1.5-pro_REFACTOR_V2_results.csv\n"
     ]
    },
    {
     "name": "stderr",
     "output_type": "stream",
     "text": [
      "50it [06:20,  7.62s/it]\n"
     ]
    },
    {
     "name": "stdout",
     "output_type": "stream",
     "text": [
      "[2024-11-26T21:59:20-08:00] Completed output_files/result_gemini/results_gemini_0.2/gemini-1.5-pro_REFACTOR_V2_results.csv\n",
      "[2024-11-26T21:59:20-08:00] Processing output_files/result_gemini/results_gemini_0.2/gemini-1.5-flash_REFACTOR_results.csv to evaluation_files/result_gemini/results_gemini_0.2/gemini-1.5-flash_REFACTOR_results.csv\n"
     ]
    },
    {
     "name": "stderr",
     "output_type": "stream",
     "text": [
      "50it [05:20,  6.41s/it]\n"
     ]
    },
    {
     "name": "stdout",
     "output_type": "stream",
     "text": [
      "[2024-11-26T22:04:41-08:00] Completed output_files/result_gemini/results_gemini_0.2/gemini-1.5-flash_REFACTOR_results.csv\n",
      "[2024-11-26T22:04:41-08:00] Processing output_files/result_gemini/results_gemini_0.2/gemini-1.5-flash_REFACTOR_V5_results.csv to evaluation_files/result_gemini/results_gemini_0.2/gemini-1.5-flash_REFACTOR_V5_results.csv\n"
     ]
    },
    {
     "name": "stderr",
     "output_type": "stream",
     "text": [
      "50it [05:18,  6.37s/it]\n"
     ]
    },
    {
     "name": "stdout",
     "output_type": "stream",
     "text": [
      "[2024-11-26T22:09:59-08:00] Completed output_files/result_gemini/results_gemini_0.2/gemini-1.5-flash_REFACTOR_V5_results.csv\n",
      "[2024-11-26T22:09:59-08:00] Processing output_files/result_gemini/results_gemini_0/gemini-1.5-flash_REFACTOR_V2_results.csv to evaluation_files/result_gemini/results_gemini_0/gemini-1.5-flash_REFACTOR_V2_results.csv\n"
     ]
    },
    {
     "name": "stderr",
     "output_type": "stream",
     "text": [
      "50it [06:13,  7.48s/it]\n"
     ]
    },
    {
     "name": "stdout",
     "output_type": "stream",
     "text": [
      "[2024-11-26T22:16:13-08:00] Completed output_files/result_gemini/results_gemini_0/gemini-1.5-flash_REFACTOR_V2_results.csv\n",
      "[2024-11-26T22:16:13-08:00] Processing output_files/result_gemini/results_gemini_0/gemini-1.5-pro_REFACTOR_V5_results.csv to evaluation_files/result_gemini/results_gemini_0/gemini-1.5-pro_REFACTOR_V5_results.csv\n"
     ]
    },
    {
     "name": "stderr",
     "output_type": "stream",
     "text": [
      "50it [05:05,  6.11s/it]\n"
     ]
    },
    {
     "name": "stdout",
     "output_type": "stream",
     "text": [
      "[2024-11-26T22:21:19-08:00] Completed output_files/result_gemini/results_gemini_0/gemini-1.5-pro_REFACTOR_V5_results.csv\n",
      "[2024-11-26T22:21:19-08:00] Processing output_files/result_gemini/results_gemini_0/gemini-1.5-flash_REFACTOR_V4_results.csv to evaluation_files/result_gemini/results_gemini_0/gemini-1.5-flash_REFACTOR_V4_results.csv\n"
     ]
    },
    {
     "name": "stderr",
     "output_type": "stream",
     "text": [
      "50it [06:14,  7.49s/it]\n"
     ]
    },
    {
     "name": "stdout",
     "output_type": "stream",
     "text": [
      "[2024-11-26T22:27:33-08:00] Completed output_files/result_gemini/results_gemini_0/gemini-1.5-flash_REFACTOR_V4_results.csv\n",
      "[2024-11-26T22:27:33-08:00] Processing output_files/result_gemini/results_gemini_0/gemini-1.5-pro_REFACTOR_results.csv to evaluation_files/result_gemini/results_gemini_0/gemini-1.5-pro_REFACTOR_results.csv\n"
     ]
    },
    {
     "name": "stderr",
     "output_type": "stream",
     "text": [
      "50it [05:19,  6.40s/it]\n"
     ]
    },
    {
     "name": "stdout",
     "output_type": "stream",
     "text": [
      "[2024-11-26T22:32:53-08:00] Completed output_files/result_gemini/results_gemini_0/gemini-1.5-pro_REFACTOR_results.csv\n",
      "[2024-11-26T22:32:53-08:00] Processing output_files/result_gemini/results_gemini_0/gemini-1.5-pro_REFACTOR_V3_results.csv to evaluation_files/result_gemini/results_gemini_0/gemini-1.5-pro_REFACTOR_V3_results.csv\n"
     ]
    },
    {
     "name": "stderr",
     "output_type": "stream",
     "text": [
      "50it [05:36,  6.73s/it]\n"
     ]
    },
    {
     "name": "stdout",
     "output_type": "stream",
     "text": [
      "[2024-11-26T22:38:30-08:00] Completed output_files/result_gemini/results_gemini_0/gemini-1.5-pro_REFACTOR_V3_results.csv\n",
      "[2024-11-26T22:38:30-08:00] Processing output_files/result_gemini/results_gemini_0/gemini-1.5-pro_REFACTOR_V4_results.csv to evaluation_files/result_gemini/results_gemini_0/gemini-1.5-pro_REFACTOR_V4_results.csv\n"
     ]
    },
    {
     "name": "stderr",
     "output_type": "stream",
     "text": [
      "50it [06:10,  7.42s/it]\n"
     ]
    },
    {
     "name": "stdout",
     "output_type": "stream",
     "text": [
      "[2024-11-26T22:44:40-08:00] Completed output_files/result_gemini/results_gemini_0/gemini-1.5-pro_REFACTOR_V4_results.csv\n",
      "[2024-11-26T22:44:40-08:00] Processing output_files/result_gemini/results_gemini_0/gemini-1.5-flash_CODEGEN_results.csv to evaluation_files/result_gemini/results_gemini_0/gemini-1.5-flash_CODEGEN_results.csv\n"
     ]
    },
    {
     "name": "stderr",
     "output_type": "stream",
     "text": [
      "50it [05:07,  6.14s/it]\n"
     ]
    },
    {
     "name": "stdout",
     "output_type": "stream",
     "text": [
      "[2024-11-26T22:49:48-08:00] Completed output_files/result_gemini/results_gemini_0/gemini-1.5-flash_CODEGEN_results.csv\n",
      "[2024-11-26T22:49:48-08:00] Processing output_files/result_gemini/results_gemini_0/gemini-1.5-pro_CODEGEN_results.csv to evaluation_files/result_gemini/results_gemini_0/gemini-1.5-pro_CODEGEN_results.csv\n"
     ]
    },
    {
     "name": "stderr",
     "output_type": "stream",
     "text": [
      "50it [05:10,  6.20s/it]\n"
     ]
    },
    {
     "name": "stdout",
     "output_type": "stream",
     "text": [
      "[2024-11-26T22:54:58-08:00] Completed output_files/result_gemini/results_gemini_0/gemini-1.5-pro_CODEGEN_results.csv\n",
      "[2024-11-26T22:54:58-08:00] Processing output_files/result_gemini/results_gemini_0/gemini-1.5-flash_REFACTOR_V3_results.csv to evaluation_files/result_gemini/results_gemini_0/gemini-1.5-flash_REFACTOR_V3_results.csv\n"
     ]
    },
    {
     "name": "stderr",
     "output_type": "stream",
     "text": [
      "50it [05:08,  6.17s/it]\n"
     ]
    },
    {
     "name": "stdout",
     "output_type": "stream",
     "text": [
      "[2024-11-26T23:00:07-08:00] Completed output_files/result_gemini/results_gemini_0/gemini-1.5-flash_REFACTOR_V3_results.csv\n",
      "[2024-11-26T23:00:07-08:00] Processing output_files/result_gemini/results_gemini_0/gemini-1.5-pro_REFACTOR_V2_results.csv to evaluation_files/result_gemini/results_gemini_0/gemini-1.5-pro_REFACTOR_V2_results.csv\n"
     ]
    },
    {
     "name": "stderr",
     "output_type": "stream",
     "text": [
      "50it [07:07,  8.55s/it]\n"
     ]
    },
    {
     "name": "stdout",
     "output_type": "stream",
     "text": [
      "[2024-11-26T23:07:14-08:00] Completed output_files/result_gemini/results_gemini_0/gemini-1.5-pro_REFACTOR_V2_results.csv\n",
      "[2024-11-26T23:07:14-08:00] Processing output_files/result_gemini/results_gemini_0/gemini-1.5-flash_REFACTOR_results.csv to evaluation_files/result_gemini/results_gemini_0/gemini-1.5-flash_REFACTOR_results.csv\n"
     ]
    },
    {
     "name": "stderr",
     "output_type": "stream",
     "text": [
      "50it [05:08,  6.17s/it]\n"
     ]
    },
    {
     "name": "stdout",
     "output_type": "stream",
     "text": [
      "[2024-11-26T23:12:23-08:00] Completed output_files/result_gemini/results_gemini_0/gemini-1.5-flash_REFACTOR_results.csv\n",
      "[2024-11-26T23:12:23-08:00] Processing output_files/result_gemini/results_gemini_0/gemini-1.5-flash_REFACTOR_V5_results.csv to evaluation_files/result_gemini/results_gemini_0/gemini-1.5-flash_REFACTOR_V5_results.csv\n"
     ]
    },
    {
     "name": "stderr",
     "output_type": "stream",
     "text": [
      "50it [05:08,  6.17s/it]\n"
     ]
    },
    {
     "name": "stdout",
     "output_type": "stream",
     "text": [
      "[2024-11-26T23:17:31-08:00] Completed output_files/result_gemini/results_gemini_0/gemini-1.5-flash_REFACTOR_V5_results.csv\n",
      "[2024-11-26T23:17:31-08:00] Processing output_files/openai_results_temp_0/PROMPT_REFACTOR_V1_gpt-4-turbo.csv to evaluation_files/openai_results_temp_0/PROMPT_REFACTOR_V1_gpt-4-turbo.csv\n"
     ]
    },
    {
     "name": "stderr",
     "output_type": "stream",
     "text": [
      "50it [05:11,  6.23s/it]\n"
     ]
    },
    {
     "name": "stdout",
     "output_type": "stream",
     "text": [
      "[2024-11-26T23:22:43-08:00] Completed output_files/openai_results_temp_0/PROMPT_REFACTOR_V1_gpt-4-turbo.csv\n",
      "[2024-11-26T23:22:43-08:00] Processing output_files/openai_results_temp_0/CODE_GEN_V1_gpt-4-turbo.csv to evaluation_files/openai_results_temp_0/CODE_GEN_V1_gpt-4-turbo.csv\n"
     ]
    },
    {
     "name": "stderr",
     "output_type": "stream",
     "text": [
      "50it [05:06,  6.13s/it]\n"
     ]
    },
    {
     "name": "stdout",
     "output_type": "stream",
     "text": [
      "[2024-11-26T23:27:49-08:00] Completed output_files/openai_results_temp_0/CODE_GEN_V1_gpt-4-turbo.csv\n",
      "[2024-11-26T23:27:49-08:00] Processing output_files/openai_results_temp_0/PROMPT_REFACTOR_V2_gpt-4-turbo.csv to evaluation_files/openai_results_temp_0/PROMPT_REFACTOR_V2_gpt-4-turbo.csv\n"
     ]
    },
    {
     "name": "stderr",
     "output_type": "stream",
     "text": [
      "50it [05:08,  6.17s/it]\n"
     ]
    },
    {
     "name": "stdout",
     "output_type": "stream",
     "text": [
      "[2024-11-26T23:32:58-08:00] Completed output_files/openai_results_temp_0/PROMPT_REFACTOR_V2_gpt-4-turbo.csv\n",
      "[2024-11-26T23:32:58-08:00] Processing output_files/openai_results_temp_0/CODE_REFACTOR_V1_gpt-3.5-turbo.csv to evaluation_files/openai_results_temp_0/CODE_REFACTOR_V1_gpt-3.5-turbo.csv\n"
     ]
    },
    {
     "name": "stderr",
     "output_type": "stream",
     "text": [
      "50it [05:05,  6.12s/it]\n"
     ]
    },
    {
     "name": "stdout",
     "output_type": "stream",
     "text": [
      "[2024-11-26T23:38:04-08:00] Completed output_files/openai_results_temp_0/CODE_REFACTOR_V1_gpt-3.5-turbo.csv\n",
      "[2024-11-26T23:38:04-08:00] Processing output_files/openai_results_temp_0/CODE_REFACTOR_V2_gpt-3.5-turbo.csv to evaluation_files/openai_results_temp_0/CODE_REFACTOR_V2_gpt-3.5-turbo.csv\n"
     ]
    },
    {
     "name": "stderr",
     "output_type": "stream",
     "text": [
      "50it [06:08,  7.37s/it]\n"
     ]
    },
    {
     "name": "stdout",
     "output_type": "stream",
     "text": [
      "[2024-11-26T23:44:12-08:00] Completed output_files/openai_results_temp_0/CODE_REFACTOR_V2_gpt-3.5-turbo.csv\n",
      "[2024-11-26T23:44:12-08:00] Processing output_files/openai_results_temp_0/CODE_GEN_V1_gpt-3.5-turbo.csv to evaluation_files/openai_results_temp_0/CODE_GEN_V1_gpt-3.5-turbo.csv\n"
     ]
    },
    {
     "name": "stderr",
     "output_type": "stream",
     "text": [
      "50it [05:06,  6.13s/it]\n"
     ]
    },
    {
     "name": "stdout",
     "output_type": "stream",
     "text": [
      "[2024-11-26T23:49:19-08:00] Completed output_files/openai_results_temp_0/CODE_GEN_V1_gpt-3.5-turbo.csv\n",
      "[2024-11-26T23:49:19-08:00] Processing output_files/openai_results_temp_0/CODE_REFACTOR_V3_gpt-3.5-turbo.csv to evaluation_files/openai_results_temp_0/CODE_REFACTOR_V3_gpt-3.5-turbo.csv\n"
     ]
    },
    {
     "name": "stderr",
     "output_type": "stream",
     "text": [
      "50it [06:11,  7.42s/it]\n"
     ]
    },
    {
     "name": "stdout",
     "output_type": "stream",
     "text": [
      "[2024-11-26T23:55:30-08:00] Completed output_files/openai_results_temp_0/CODE_REFACTOR_V3_gpt-3.5-turbo.csv\n",
      "[2024-11-26T23:55:30-08:00] Processing output_files/openai_results_temp_0/PROMPT_REFACTOR_V3_gpt-4-turbo.csv to evaluation_files/openai_results_temp_0/PROMPT_REFACTOR_V3_gpt-4-turbo.csv\n"
     ]
    },
    {
     "name": "stderr",
     "output_type": "stream",
     "text": [
      "50it [05:10,  6.20s/it]\n"
     ]
    },
    {
     "name": "stdout",
     "output_type": "stream",
     "text": [
      "[2024-11-27T00:00:40-08:00] Completed output_files/openai_results_temp_0/PROMPT_REFACTOR_V3_gpt-4-turbo.csv\n",
      "[2024-11-27T00:00:40-08:00] Processing output_files/gemini_results_temp_0.2/gemini-1.5-flash_REFACTOR_V2_results.csv to evaluation_files/gemini_results_temp_0.2/gemini-1.5-flash_REFACTOR_V2_results.csv\n"
     ]
    },
    {
     "name": "stderr",
     "output_type": "stream",
     "text": [
      "50it [06:07,  7.36s/it]\n"
     ]
    },
    {
     "name": "stdout",
     "output_type": "stream",
     "text": [
      "[2024-11-27T00:06:48-08:00] Completed output_files/gemini_results_temp_0.2/gemini-1.5-flash_REFACTOR_V2_results.csv\n",
      "[2024-11-27T00:06:48-08:00] Processing output_files/gemini_results_temp_0.2/gemini-1.5-pro_REFACTOR_V5_results.csv to evaluation_files/gemini_results_temp_0.2/gemini-1.5-pro_REFACTOR_V5_results.csv\n"
     ]
    },
    {
     "name": "stderr",
     "output_type": "stream",
     "text": [
      "50it [05:11,  6.22s/it]\n"
     ]
    },
    {
     "name": "stdout",
     "output_type": "stream",
     "text": [
      "[2024-11-27T00:11:59-08:00] Completed output_files/gemini_results_temp_0.2/gemini-1.5-pro_REFACTOR_V5_results.csv\n",
      "[2024-11-27T00:11:59-08:00] Processing output_files/gemini_results_temp_0.2/gemini-1.5-pro_CODE_GEN_V1_results.csv to evaluation_files/gemini_results_temp_0.2/gemini-1.5-pro_CODE_GEN_V1_results.csv\n"
     ]
    },
    {
     "name": "stderr",
     "output_type": "stream",
     "text": [
      "50it [05:12,  6.25s/it]\n"
     ]
    },
    {
     "name": "stdout",
     "output_type": "stream",
     "text": [
      "[2024-11-27T00:17:12-08:00] Completed output_files/gemini_results_temp_0.2/gemini-1.5-pro_CODE_GEN_V1_results.csv\n",
      "[2024-11-27T00:17:12-08:00] Processing output_files/gemini_results_temp_0.2/gemini-1.5-flash_REFACTOR_V1_results.csv to evaluation_files/gemini_results_temp_0.2/gemini-1.5-flash_REFACTOR_V1_results.csv\n"
     ]
    },
    {
     "name": "stderr",
     "output_type": "stream",
     "text": [
      "50it [05:09,  6.18s/it]\n"
     ]
    },
    {
     "name": "stdout",
     "output_type": "stream",
     "text": [
      "[2024-11-27T00:22:21-08:00] Completed output_files/gemini_results_temp_0.2/gemini-1.5-flash_REFACTOR_V1_results.csv\n",
      "[2024-11-27T00:22:21-08:00] Processing output_files/gemini_results_temp_0.2/gemini-1.5-pro_REFACTOR_V3_results.csv to evaluation_files/gemini_results_temp_0.2/gemini-1.5-pro_REFACTOR_V3_results.csv\n"
     ]
    },
    {
     "name": "stderr",
     "output_type": "stream",
     "text": [
      "50it [05:32,  6.64s/it]\n"
     ]
    },
    {
     "name": "stdout",
     "output_type": "stream",
     "text": [
      "[2024-11-27T00:27:53-08:00] Completed output_files/gemini_results_temp_0.2/gemini-1.5-pro_REFACTOR_V3_results.csv\n",
      "[2024-11-27T00:27:53-08:00] Processing output_files/gemini_results_temp_0.2/gemini-1.5-flash_CODE_GEN_V1_results.csv to evaluation_files/gemini_results_temp_0.2/gemini-1.5-flash_CODE_GEN_V1_results.csv\n"
     ]
    },
    {
     "name": "stderr",
     "output_type": "stream",
     "text": [
      "50it [05:08,  6.16s/it]\n"
     ]
    },
    {
     "name": "stdout",
     "output_type": "stream",
     "text": [
      "[2024-11-27T00:33:01-08:00] Completed output_files/gemini_results_temp_0.2/gemini-1.5-flash_CODE_GEN_V1_results.csv\n",
      "[2024-11-27T00:33:01-08:00] Processing output_files/gemini_results_temp_0.2/gemini-1.5-pro_REFACTOR_V1_results.csv to evaluation_files/gemini_results_temp_0.2/gemini-1.5-pro_REFACTOR_V1_results.csv\n"
     ]
    },
    {
     "name": "stderr",
     "output_type": "stream",
     "text": [
      "50it [05:29,  6.58s/it]\n"
     ]
    },
    {
     "name": "stdout",
     "output_type": "stream",
     "text": [
      "[2024-11-27T00:38:30-08:00] Completed output_files/gemini_results_temp_0.2/gemini-1.5-pro_REFACTOR_V1_results.csv\n",
      "[2024-11-27T00:38:30-08:00] Processing output_files/gemini_results_temp_0.2/gemini-1.5-flash_REFACTOR_V3_results.csv to evaluation_files/gemini_results_temp_0.2/gemini-1.5-flash_REFACTOR_V3_results.csv\n"
     ]
    },
    {
     "name": "stderr",
     "output_type": "stream",
     "text": [
      "50it [05:12,  6.25s/it]\n"
     ]
    },
    {
     "name": "stdout",
     "output_type": "stream",
     "text": [
      "[2024-11-27T00:43:43-08:00] Completed output_files/gemini_results_temp_0.2/gemini-1.5-flash_REFACTOR_V3_results.csv\n",
      "[2024-11-27T00:43:43-08:00] Processing output_files/gemini_results_temp_0.2/gemini-1.5-pro_REFACTOR_V2_results.csv to evaluation_files/gemini_results_temp_0.2/gemini-1.5-pro_REFACTOR_V2_results.csv\n"
     ]
    },
    {
     "name": "stderr",
     "output_type": "stream",
     "text": [
      "50it [06:13,  7.46s/it]\n"
     ]
    },
    {
     "name": "stdout",
     "output_type": "stream",
     "text": [
      "[2024-11-27T00:49:56-08:00] Completed output_files/gemini_results_temp_0.2/gemini-1.5-pro_REFACTOR_V2_results.csv\n",
      "[2024-11-27T00:49:56-08:00] Processing output_files/gemini_results_temp_0.2/gemini-1.5-flash_REFACTOR_V5_results.csv to evaluation_files/gemini_results_temp_0.2/gemini-1.5-flash_REFACTOR_V5_results.csv\n"
     ]
    },
    {
     "name": "stderr",
     "output_type": "stream",
     "text": [
      "50it [05:10,  6.20s/it]\n"
     ]
    },
    {
     "name": "stdout",
     "output_type": "stream",
     "text": [
      "[2024-11-27T00:55:06-08:00] Completed output_files/gemini_results_temp_0.2/gemini-1.5-flash_REFACTOR_V5_results.csv\n",
      "[2024-11-27T00:55:06-08:00] Processing output_files/gemini_results_temp_0/gemini-1.5-flash_REFACTOR_V2_results.csv to evaluation_files/gemini_results_temp_0/gemini-1.5-flash_REFACTOR_V2_results.csv\n"
     ]
    },
    {
     "name": "stderr",
     "output_type": "stream",
     "text": [
      "50it [06:05,  7.30s/it]\n"
     ]
    },
    {
     "name": "stdout",
     "output_type": "stream",
     "text": [
      "[2024-11-27T01:01:11-08:00] Completed output_files/gemini_results_temp_0/gemini-1.5-flash_REFACTOR_V2_results.csv\n",
      "[2024-11-27T01:01:11-08:00] Processing output_files/gemini_results_temp_0/gemini-1.5-pro_CODE_GEN_V1_results.csv to evaluation_files/gemini_results_temp_0/gemini-1.5-pro_CODE_GEN_V1_results.csv\n"
     ]
    },
    {
     "name": "stderr",
     "output_type": "stream",
     "text": [
      "50it [05:05,  6.11s/it]\n"
     ]
    },
    {
     "name": "stdout",
     "output_type": "stream",
     "text": [
      "[2024-11-27T01:06:16-08:00] Completed output_files/gemini_results_temp_0/gemini-1.5-pro_CODE_GEN_V1_results.csv\n",
      "[2024-11-27T01:06:16-08:00] Processing output_files/gemini_results_temp_0/gemini-1.5-flash_REFACTOR_V1_results.csv to evaluation_files/gemini_results_temp_0/gemini-1.5-flash_REFACTOR_V1_results.csv\n"
     ]
    },
    {
     "name": "stderr",
     "output_type": "stream",
     "text": [
      "50it [05:07,  6.14s/it]\n"
     ]
    },
    {
     "name": "stdout",
     "output_type": "stream",
     "text": [
      "[2024-11-27T01:11:24-08:00] Completed output_files/gemini_results_temp_0/gemini-1.5-flash_REFACTOR_V1_results.csv\n",
      "[2024-11-27T01:11:24-08:00] Processing output_files/gemini_results_temp_0/gemini-1.5-flash_CODE_GEN_V1_results.csv to evaluation_files/gemini_results_temp_0/gemini-1.5-flash_CODE_GEN_V1_results.csv\n"
     ]
    },
    {
     "name": "stderr",
     "output_type": "stream",
     "text": [
      "50it [05:14,  6.30s/it]\n"
     ]
    },
    {
     "name": "stdout",
     "output_type": "stream",
     "text": [
      "[2024-11-27T01:16:38-08:00] Completed output_files/gemini_results_temp_0/gemini-1.5-flash_CODE_GEN_V1_results.csv\n",
      "[2024-11-27T01:16:38-08:00] Processing output_files/gemini_results_temp_0/gemini-1.5-flash_REFACTOR_V3_results.csv to evaluation_files/gemini_results_temp_0/gemini-1.5-flash_REFACTOR_V3_results.csv\n"
     ]
    },
    {
     "name": "stderr",
     "output_type": "stream",
     "text": [
      "50it [05:15,  6.30s/it]\n"
     ]
    },
    {
     "name": "stdout",
     "output_type": "stream",
     "text": [
      "[2024-11-27T01:21:54-08:00] Completed output_files/gemini_results_temp_0/gemini-1.5-flash_REFACTOR_V3_results.csv\n",
      "[2024-11-27T01:21:54-08:00] Processing output_files/gemini_results_temp_0/gemini-1.5-flash_REFACTOR_V5_results.csv to evaluation_files/gemini_results_temp_0/gemini-1.5-flash_REFACTOR_V5_results.csv\n"
     ]
    },
    {
     "name": "stderr",
     "output_type": "stream",
     "text": [
      "50it [05:14,  6.28s/it]"
     ]
    },
    {
     "name": "stdout",
     "output_type": "stream",
     "text": [
      "[2024-11-27T01:27:08-08:00] Completed output_files/gemini_results_temp_0/gemini-1.5-flash_REFACTOR_V5_results.csv\n"
     ]
    },
    {
     "name": "stderr",
     "output_type": "stream",
     "text": [
      "\n"
     ]
    }
   ],
   "execution_count": 3
  },
  {
   "metadata": {
    "ExecuteTime": {
     "end_time": "2024-11-30T02:06:49.946962Z",
     "start_time": "2024-11-30T00:49:46.770816Z"
    }
   },
   "cell_type": "code",
   "source": "process_directory_structure('./output_files', './evaluation_files', evaluate_batch)",
   "id": "eff496f01c6d8f60",
   "outputs": [
    {
     "name": "stdout",
     "output_type": "stream",
     "text": [
      "[2024-11-29T16:49:46-08:00] Processing output_files/llama3_90B_results_temp_0/PROMPT_REFACTOR_V2_llama3-groq-70b-8192-tool-use-preview.csv to evaluation_files/llama3_90B_results_temp_0/PROMPT_REFACTOR_V2_llama3-groq-70b-8192-tool-use-preview.csv\n"
     ]
    },
    {
     "name": "stderr",
     "output_type": "stream",
     "text": [
      "50it [05:34,  6.68s/it]\n"
     ]
    },
    {
     "name": "stdout",
     "output_type": "stream",
     "text": [
      "[2024-11-29T16:55:20-08:00] Completed output_files/llama3_90B_results_temp_0/PROMPT_REFACTOR_V2_llama3-groq-70b-8192-tool-use-preview.csv\n",
      "[2024-11-29T16:55:20-08:00] Processing output_files/llama3_90B_results_temp_0/PROMPT_REFACTOR_V3_llama3-groq-70b-8192-tool-use-preview.csv to evaluation_files/llama3_90B_results_temp_0/PROMPT_REFACTOR_V3_llama3-groq-70b-8192-tool-use-preview.csv\n"
     ]
    },
    {
     "name": "stderr",
     "output_type": "stream",
     "text": [
      "50it [05:34,  6.69s/it]\n"
     ]
    },
    {
     "name": "stdout",
     "output_type": "stream",
     "text": [
      "[2024-11-29T17:00:55-08:00] Completed output_files/llama3_90B_results_temp_0/PROMPT_REFACTOR_V3_llama3-groq-70b-8192-tool-use-preview.csv\n",
      "[2024-11-29T17:00:55-08:00] Processing output_files/llama3_90B_results_temp_0/PROMPT_CODEGEN_V1_llama3-groq-70b-8192-tool-use-preview.csv to evaluation_files/llama3_90B_results_temp_0/PROMPT_CODEGEN_V1_llama3-groq-70b-8192-tool-use-preview.csv\n"
     ]
    },
    {
     "name": "stderr",
     "output_type": "stream",
     "text": [
      "50it [05:36,  6.73s/it]\n"
     ]
    },
    {
     "name": "stdout",
     "output_type": "stream",
     "text": [
      "[2024-11-29T17:06:31-08:00] Completed output_files/llama3_90B_results_temp_0/PROMPT_CODEGEN_V1_llama3-groq-70b-8192-tool-use-preview.csv\n",
      "[2024-11-29T17:06:31-08:00] Processing output_files/llama3_90B_results_temp_0/PROMPT_REFACTOR_V5_llama3-groq-70b-8192-tool-use-preview.csv to evaluation_files/llama3_90B_results_temp_0/PROMPT_REFACTOR_V5_llama3-groq-70b-8192-tool-use-preview.csv\n"
     ]
    },
    {
     "name": "stderr",
     "output_type": "stream",
     "text": [
      "50it [05:35,  6.71s/it]\n"
     ]
    },
    {
     "name": "stdout",
     "output_type": "stream",
     "text": [
      "[2024-11-29T17:12:07-08:00] Completed output_files/llama3_90B_results_temp_0/PROMPT_REFACTOR_V5_llama3-groq-70b-8192-tool-use-preview.csv\n",
      "[2024-11-29T17:12:07-08:00] Processing output_files/llama3_90B_results_temp_0/PROMPT_REFACTOR_V4_llama3-groq-70b-8192-tool-use-preview.csv to evaluation_files/llama3_90B_results_temp_0/PROMPT_REFACTOR_V4_llama3-groq-70b-8192-tool-use-preview.csv\n"
     ]
    },
    {
     "name": "stderr",
     "output_type": "stream",
     "text": [
      "50it [05:14,  6.30s/it]\n"
     ]
    },
    {
     "name": "stdout",
     "output_type": "stream",
     "text": [
      "[2024-11-29T17:17:22-08:00] Completed output_files/llama3_90B_results_temp_0/PROMPT_REFACTOR_V4_llama3-groq-70b-8192-tool-use-preview.csv\n",
      "[2024-11-29T17:17:22-08:00] Processing output_files/llama3_90B_results_temp_0/PROMPT_REFACTOR_V1_llama3-groq-70b-8192-tool-use-preview.csv to evaluation_files/llama3_90B_results_temp_0/PROMPT_REFACTOR_V1_llama3-groq-70b-8192-tool-use-preview.csv\n"
     ]
    },
    {
     "name": "stderr",
     "output_type": "stream",
     "text": [
      "50it [05:29,  6.60s/it]\n"
     ]
    },
    {
     "name": "stdout",
     "output_type": "stream",
     "text": [
      "[2024-11-29T17:22:51-08:00] Completed output_files/llama3_90B_results_temp_0/PROMPT_REFACTOR_V1_llama3-groq-70b-8192-tool-use-preview.csv\n",
      "[2024-11-29T17:22:51-08:00] Skipping output_files/result_gemini/results_gemini_0.2/gemini-1.5-flash_REFACTOR_V2_results.csv, already processed\n",
      "[2024-11-29T17:22:51-08:00] Skipping output_files/result_gemini/results_gemini_0.2/gemini-1.5-pro_REFACTOR_V5_results.csv, already processed\n",
      "[2024-11-29T17:22:51-08:00] Skipping output_files/result_gemini/results_gemini_0.2/gemini-1.5-flash_REFACTOR_V4_results.csv, already processed\n",
      "[2024-11-29T17:22:51-08:00] Skipping output_files/result_gemini/results_gemini_0.2/gemini-1.5-pro_REFACTOR_results.csv, already processed\n",
      "[2024-11-29T17:22:51-08:00] Skipping output_files/result_gemini/results_gemini_0.2/gemini-1.5-pro_REFACTOR_V3_results.csv, already processed\n",
      "[2024-11-29T17:22:51-08:00] Skipping output_files/result_gemini/results_gemini_0.2/gemini-1.5-pro_REFACTOR_V4_results.csv, already processed\n",
      "[2024-11-29T17:22:51-08:00] Skipping output_files/result_gemini/results_gemini_0.2/gemini-1.5-flash_CODEGEN_results.csv, already processed\n",
      "[2024-11-29T17:22:51-08:00] Skipping output_files/result_gemini/results_gemini_0.2/gemini-1.5-pro_CODEGEN_results.csv, already processed\n",
      "[2024-11-29T17:22:51-08:00] Skipping output_files/result_gemini/results_gemini_0.2/gemini-1.5-flash_REFACTOR_V3_results.csv, already processed\n",
      "[2024-11-29T17:22:51-08:00] Skipping output_files/result_gemini/results_gemini_0.2/gemini-1.5-pro_REFACTOR_V2_results.csv, already processed\n",
      "[2024-11-29T17:22:51-08:00] Skipping output_files/result_gemini/results_gemini_0.2/gemini-1.5-flash_REFACTOR_results.csv, already processed\n",
      "[2024-11-29T17:22:51-08:00] Skipping output_files/result_gemini/results_gemini_0.2/gemini-1.5-flash_REFACTOR_V5_results.csv, already processed\n",
      "[2024-11-29T17:22:51-08:00] Skipping output_files/result_gemini/results_gemini_0/gemini-1.5-flash_REFACTOR_V2_results.csv, already processed\n",
      "[2024-11-29T17:22:51-08:00] Skipping output_files/result_gemini/results_gemini_0/gemini-1.5-pro_REFACTOR_V5_results.csv, already processed\n",
      "[2024-11-29T17:22:51-08:00] Skipping output_files/result_gemini/results_gemini_0/gemini-1.5-flash_REFACTOR_V4_results.csv, already processed\n",
      "[2024-11-29T17:22:51-08:00] Skipping output_files/result_gemini/results_gemini_0/gemini-1.5-pro_REFACTOR_results.csv, already processed\n",
      "[2024-11-29T17:22:51-08:00] Skipping output_files/result_gemini/results_gemini_0/gemini-1.5-pro_REFACTOR_V3_results.csv, already processed\n",
      "[2024-11-29T17:22:51-08:00] Skipping output_files/result_gemini/results_gemini_0/gemini-1.5-pro_REFACTOR_V4_results.csv, already processed\n",
      "[2024-11-29T17:22:51-08:00] Skipping output_files/result_gemini/results_gemini_0/gemini-1.5-flash_CODEGEN_results.csv, already processed\n",
      "[2024-11-29T17:22:51-08:00] Skipping output_files/result_gemini/results_gemini_0/gemini-1.5-pro_CODEGEN_results.csv, already processed\n",
      "[2024-11-29T17:22:51-08:00] Skipping output_files/result_gemini/results_gemini_0/gemini-1.5-flash_REFACTOR_V3_results.csv, already processed\n",
      "[2024-11-29T17:22:51-08:00] Skipping output_files/result_gemini/results_gemini_0/gemini-1.5-pro_REFACTOR_V2_results.csv, already processed\n",
      "[2024-11-29T17:22:51-08:00] Skipping output_files/result_gemini/results_gemini_0/gemini-1.5-flash_REFACTOR_results.csv, already processed\n",
      "[2024-11-29T17:22:51-08:00] Skipping output_files/result_gemini/results_gemini_0/gemini-1.5-flash_REFACTOR_V5_results.csv, already processed\n",
      "[2024-11-29T17:22:51-08:00] Skipping output_files/openai_results_temp_0/PROMPT_REFACTOR_V1_gpt-4-turbo.csv, already processed\n",
      "[2024-11-29T17:22:51-08:00] Skipping output_files/openai_results_temp_0/CODE_GEN_V1_gpt-4-turbo.csv, already processed\n",
      "[2024-11-29T17:22:51-08:00] Skipping output_files/openai_results_temp_0/PROMPT_REFACTOR_V2_gpt-4-turbo.csv, already processed\n",
      "[2024-11-29T17:22:51-08:00] Skipping output_files/openai_results_temp_0/CODE_REFACTOR_V1_gpt-3.5-turbo.csv, already processed\n",
      "[2024-11-29T17:22:51-08:00] Skipping output_files/openai_results_temp_0/CODE_REFACTOR_V2_gpt-3.5-turbo.csv, already processed\n",
      "[2024-11-29T17:22:51-08:00] Skipping output_files/openai_results_temp_0/CODE_GEN_V1_gpt-3.5-turbo.csv, already processed\n",
      "[2024-11-29T17:22:51-08:00] Processing output_files/openai_results_temp_0/PROMPT_REFACTOR_V4_gpt-4-turbo.csv to evaluation_files/openai_results_temp_0/PROMPT_REFACTOR_V4_gpt-4-turbo.csv\n"
     ]
    },
    {
     "name": "stderr",
     "output_type": "stream",
     "text": [
      "50it [05:36,  6.72s/it]\n"
     ]
    },
    {
     "name": "stdout",
     "output_type": "stream",
     "text": [
      "[2024-11-29T17:28:28-08:00] Completed output_files/openai_results_temp_0/PROMPT_REFACTOR_V4_gpt-4-turbo.csv\n",
      "[2024-11-29T17:28:28-08:00] Skipping output_files/openai_results_temp_0/CODE_REFACTOR_V3_gpt-3.5-turbo.csv, already processed\n",
      "[2024-11-29T17:28:28-08:00] Processing output_files/openai_results_temp_0/PROMPT_REFACTOR_V4_gpt-3.5-turbo.csv to evaluation_files/openai_results_temp_0/PROMPT_REFACTOR_V4_gpt-3.5-turbo.csv\n"
     ]
    },
    {
     "name": "stderr",
     "output_type": "stream",
     "text": [
      "50it [05:30,  6.62s/it]\n"
     ]
    },
    {
     "name": "stdout",
     "output_type": "stream",
     "text": [
      "[2024-11-29T17:33:58-08:00] Completed output_files/openai_results_temp_0/PROMPT_REFACTOR_V4_gpt-3.5-turbo.csv\n",
      "[2024-11-29T17:33:58-08:00] Skipping output_files/openai_results_temp_0/PROMPT_REFACTOR_V3_gpt-4-turbo.csv, already processed\n",
      "[2024-11-29T17:33:58-08:00] Processing output_files/mixtral_results_temp_0/PROMPT_REFACTOR_V5_mixtral-8x7b-32768.csv to evaluation_files/mixtral_results_temp_0/PROMPT_REFACTOR_V5_mixtral-8x7b-32768.csv\n"
     ]
    },
    {
     "name": "stderr",
     "output_type": "stream",
     "text": [
      "50it [05:36,  6.72s/it]\n"
     ]
    },
    {
     "name": "stdout",
     "output_type": "stream",
     "text": [
      "[2024-11-29T17:39:35-08:00] Completed output_files/mixtral_results_temp_0/PROMPT_REFACTOR_V5_mixtral-8x7b-32768.csv\n",
      "[2024-11-29T17:39:35-08:00] Processing output_files/mixtral_results_temp_0/PROMPT_REFACTOR_V2_mixtral-8x7b-32768.csv to evaluation_files/mixtral_results_temp_0/PROMPT_REFACTOR_V2_mixtral-8x7b-32768.csv\n"
     ]
    },
    {
     "name": "stderr",
     "output_type": "stream",
     "text": [
      "50it [05:42,  6.84s/it]\n"
     ]
    },
    {
     "name": "stdout",
     "output_type": "stream",
     "text": [
      "[2024-11-29T17:45:17-08:00] Completed output_files/mixtral_results_temp_0/PROMPT_REFACTOR_V2_mixtral-8x7b-32768.csv\n",
      "[2024-11-29T17:45:17-08:00] Processing output_files/mixtral_results_temp_0/PROMPT_REFACTOR_V1_mixtral-8x7b-32768.csv to evaluation_files/mixtral_results_temp_0/PROMPT_REFACTOR_V1_mixtral-8x7b-32768.csv\n"
     ]
    },
    {
     "name": "stderr",
     "output_type": "stream",
     "text": [
      "50it [05:35,  6.71s/it]\n"
     ]
    },
    {
     "name": "stdout",
     "output_type": "stream",
     "text": [
      "[2024-11-29T17:50:52-08:00] Completed output_files/mixtral_results_temp_0/PROMPT_REFACTOR_V1_mixtral-8x7b-32768.csv\n",
      "[2024-11-29T17:50:52-08:00] Processing output_files/mixtral_results_temp_0/PROMPT_REFACTOR_V3_mixtral-8x7b-32768.csv to evaluation_files/mixtral_results_temp_0/PROMPT_REFACTOR_V3_mixtral-8x7b-32768.csv\n"
     ]
    },
    {
     "name": "stderr",
     "output_type": "stream",
     "text": [
      "50it [05:17,  6.35s/it]\n"
     ]
    },
    {
     "name": "stdout",
     "output_type": "stream",
     "text": [
      "[2024-11-29T17:56:10-08:00] Completed output_files/mixtral_results_temp_0/PROMPT_REFACTOR_V3_mixtral-8x7b-32768.csv\n",
      "[2024-11-29T17:56:10-08:00] Processing output_files/mixtral_results_temp_0/PROMPT_CODEGEN_V1_mixtral-8x7b-32768.csv to evaluation_files/mixtral_results_temp_0/PROMPT_CODEGEN_V1_mixtral-8x7b-32768.csv\n"
     ]
    },
    {
     "name": "stderr",
     "output_type": "stream",
     "text": [
      "50it [05:20,  6.40s/it]\n"
     ]
    },
    {
     "name": "stdout",
     "output_type": "stream",
     "text": [
      "[2024-11-29T18:01:30-08:00] Completed output_files/mixtral_results_temp_0/PROMPT_CODEGEN_V1_mixtral-8x7b-32768.csv\n",
      "[2024-11-29T18:01:30-08:00] Processing output_files/mixtral_results_temp_0/PROMPT_REFACTOR_V4_mixtral-8x7b-32768.csv to evaluation_files/mixtral_results_temp_0/PROMPT_REFACTOR_V4_mixtral-8x7b-32768.csv\n"
     ]
    },
    {
     "name": "stderr",
     "output_type": "stream",
     "text": [
      "50it [05:19,  6.39s/it]"
     ]
    },
    {
     "name": "stdout",
     "output_type": "stream",
     "text": [
      "[2024-11-29T18:06:49-08:00] Completed output_files/mixtral_results_temp_0/PROMPT_REFACTOR_V4_mixtral-8x7b-32768.csv\n"
     ]
    },
    {
     "name": "stderr",
     "output_type": "stream",
     "text": [
      "\n"
     ]
    }
   ],
   "execution_count": 3
  },
  {
   "metadata": {},
   "cell_type": "code",
   "outputs": [],
   "execution_count": null,
   "source": "",
   "id": "31579f1f1b0a693e"
  }
 ],
 "metadata": {
  "kernelspec": {
   "display_name": "Python 3",
   "language": "python",
   "name": "python3"
  },
  "language_info": {
   "codemirror_mode": {
    "name": "ipython",
    "version": 2
   },
   "file_extension": ".py",
   "mimetype": "text/x-python",
   "name": "python",
   "nbconvert_exporter": "python",
   "pygments_lexer": "ipython2",
   "version": "2.7.6"
  }
 },
 "nbformat": 4,
 "nbformat_minor": 5
}
