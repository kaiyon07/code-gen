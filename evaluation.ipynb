{
 "cells": [
  {
   "cell_type": "code",
   "id": "initial_id",
   "metadata": {
    "collapsed": true,
    "ExecuteTime": {
     "end_time": "2024-11-26T05:58:03.965324Z",
     "start_time": "2024-11-26T05:58:03.486023Z"
    }
   },
   "source": [
    "from evaluator import evaluate_batch\n",
    "import os\n",
    "from pathlib import Path\n",
    "import datetime"
   ],
   "outputs": [],
   "execution_count": 1
  },
  {
   "metadata": {
    "ExecuteTime": {
     "end_time": "2024-11-26T05:58:06.684396Z",
     "start_time": "2024-11-26T05:58:06.675568Z"
    }
   },
   "cell_type": "code",
   "source": [
    "def process_directory_structure(source_root, dest_root, func, verbose=True):\n",
    "    \"\"\"\n",
    "    Walks through a directory structure and applies a processing function to each file\n",
    "    while maintaining the same hierarchy in the destination directory.\n",
    "    \n",
    "    Args:\n",
    "        source_root (str): Path to the source root directory\n",
    "        dest_root (str): Path to the destination root directory\n",
    "        func (callable): Function that takes (input_path, output_path) as arguments\n",
    "        verbose (bool): Print the name of each file processed\n",
    "    \"\"\"\n",
    "    iso_time = lambda: datetime.datetime.now().astimezone().replace(microsecond=0).isoformat()\n",
    "    \n",
    "    source_path = Path(source_root)\n",
    "    dest_path = Path(dest_root)\n",
    "    \n",
    "    dest_path.mkdir(parents=True, exist_ok=True)\n",
    "    \n",
    "    for root, dirs, files in os.walk(source_path):\n",
    "        current_root = Path(root)\n",
    "        \n",
    "        rel_path = current_root.relative_to(source_path)\n",
    "        \n",
    "        dest_dir = dest_path / rel_path\n",
    "        dest_dir.mkdir(parents=True, exist_ok=True)\n",
    "        \n",
    "        for file in files:\n",
    "            source_file = current_root / file\n",
    "            dest_file = dest_dir / file\n",
    "            \n",
    "            if verbose:\n",
    "                print('[{time}] Processing {src} to {dest}'.format(time=iso_time(), src=source_file, dest=dest_file))\n",
    "            \n",
    "            func(str(source_file), str(dest_file))\n",
    "            \n",
    "            if verbose:\n",
    "                print('[{time}] Completed {src}'.format(time=iso_time(), src=source_file))\n"
   ],
   "id": "32d5d40d7986b1bf",
   "outputs": [],
   "execution_count": 2
  },
  {
   "metadata": {
    "ExecuteTime": {
     "end_time": "2024-11-26T17:11:38.137990Z",
     "start_time": "2024-11-26T05:58:11.918707Z"
    }
   },
   "cell_type": "code",
   "source": "process_directory_structure('./output_files', './evaluation_files', evaluate_batch)",
   "id": "2b3522afe6265fd6",
   "outputs": [
    {
     "name": "stdout",
     "output_type": "stream",
     "text": [
      "[2024-11-25T21:58:11-08:00] Processing output_files/openai_results_temp_0/PROMPT_REFACTOR_V1_gpt-4-turbo.csv to evaluation_files/openai_results_temp_0/PROMPT_REFACTOR_V1_gpt-4-turbo.csv\n",
      "[2024-11-25T22:07:42-08:00] Completed output_files/openai_results_temp_0/PROMPT_REFACTOR_V1_gpt-4-turbo.csv\n",
      "[2024-11-25T22:07:42-08:00] Processing output_files/openai_results_temp_0/CODE_GEN_V1_gpt-4-turbo.csv to evaluation_files/openai_results_temp_0/CODE_GEN_V1_gpt-4-turbo.csv\n",
      "[2024-11-25T22:13:27-08:00] Completed output_files/openai_results_temp_0/CODE_GEN_V1_gpt-4-turbo.csv\n",
      "[2024-11-25T22:13:27-08:00] Processing output_files/openai_results_temp_0/PROMPT_REFACTOR_V2_gpt-4-turbo.csv to evaluation_files/openai_results_temp_0/PROMPT_REFACTOR_V2_gpt-4-turbo.csv\n",
      "[2024-11-25T22:19:21-08:00] Completed output_files/openai_results_temp_0/PROMPT_REFACTOR_V2_gpt-4-turbo.csv\n",
      "[2024-11-25T22:19:21-08:00] Processing output_files/openai_results_temp_0/CODE_REFACTOR_V1_gpt-3.5-turbo.csv to evaluation_files/openai_results_temp_0/CODE_REFACTOR_V1_gpt-3.5-turbo.csv\n",
      "[2024-11-25T22:25:22-08:00] Completed output_files/openai_results_temp_0/CODE_REFACTOR_V1_gpt-3.5-turbo.csv\n",
      "[2024-11-25T22:25:22-08:00] Processing output_files/openai_results_temp_0/CODE_REFACTOR_V2_gpt-3.5-turbo.csv to evaluation_files/openai_results_temp_0/CODE_REFACTOR_V2_gpt-3.5-turbo.csv\n",
      "[2024-11-25T22:31:12-08:00] Completed output_files/openai_results_temp_0/CODE_REFACTOR_V2_gpt-3.5-turbo.csv\n",
      "[2024-11-25T22:31:12-08:00] Processing output_files/openai_results_temp_0/CODE_GEN_V1_gpt-3.5-turbo.csv to evaluation_files/openai_results_temp_0/CODE_GEN_V1_gpt-3.5-turbo.csv\n",
      "[2024-11-25T22:36:59-08:00] Completed output_files/openai_results_temp_0/CODE_GEN_V1_gpt-3.5-turbo.csv\n",
      "[2024-11-25T22:36:59-08:00] Processing output_files/openai_results_temp_0/CODE_REFACTOR_V3_gpt-3.5-turbo.csv to evaluation_files/openai_results_temp_0/CODE_REFACTOR_V3_gpt-3.5-turbo.csv\n",
      "[2024-11-25T22:42:44-08:00] Completed output_files/openai_results_temp_0/CODE_REFACTOR_V3_gpt-3.5-turbo.csv\n",
      "[2024-11-25T22:42:44-08:00] Processing output_files/openai_results_temp_0/PROMPT_REFACTOR_V3_gpt-4-turbo.csv to evaluation_files/openai_results_temp_0/PROMPT_REFACTOR_V3_gpt-4-turbo.csv\n",
      "[2024-11-25T22:48:31-08:00] Completed output_files/openai_results_temp_0/PROMPT_REFACTOR_V3_gpt-4-turbo.csv\n",
      "[2024-11-25T22:48:31-08:00] Processing output_files/gemini_results_temp_0.2/gemini-1.5-flash_REFACTOR_V2_results.csv to evaluation_files/gemini_results_temp_0.2/gemini-1.5-flash_REFACTOR_V2_results.csv\n",
      "[2024-11-25T23:22:51-08:00] Completed output_files/gemini_results_temp_0.2/gemini-1.5-flash_REFACTOR_V2_results.csv\n",
      "[2024-11-25T23:22:51-08:00] Processing output_files/gemini_results_temp_0.2/gemini-1.5-pro_REFACTOR_V5_results.csv to evaluation_files/gemini_results_temp_0.2/gemini-1.5-pro_REFACTOR_V5_results.csv\n",
      "[2024-11-25T23:28:23-08:00] Completed output_files/gemini_results_temp_0.2/gemini-1.5-pro_REFACTOR_V5_results.csv\n",
      "[2024-11-25T23:28:23-08:00] Processing output_files/gemini_results_temp_0.2/gemini-1.5-pro_CODE_GEN_V1_results.csv to evaluation_files/gemini_results_temp_0.2/gemini-1.5-pro_CODE_GEN_V1_results.csv\n",
      "[2024-11-25T23:41:57-08:00] Completed output_files/gemini_results_temp_0.2/gemini-1.5-pro_CODE_GEN_V1_results.csv\n",
      "[2024-11-25T23:41:57-08:00] Processing output_files/gemini_results_temp_0.2/gemini-1.5-flash_REFACTOR_V1_results.csv to evaluation_files/gemini_results_temp_0.2/gemini-1.5-flash_REFACTOR_V1_results.csv\n",
      "[2024-11-25T23:49:23-08:00] Completed output_files/gemini_results_temp_0.2/gemini-1.5-flash_REFACTOR_V1_results.csv\n",
      "[2024-11-25T23:49:23-08:00] Processing output_files/gemini_results_temp_0.2/gemini-1.5-pro_REFACTOR_V3_results.csv to evaluation_files/gemini_results_temp_0.2/gemini-1.5-pro_REFACTOR_V3_results.csv\n",
      "[2024-11-25T23:54:56-08:00] Completed output_files/gemini_results_temp_0.2/gemini-1.5-pro_REFACTOR_V3_results.csv\n",
      "[2024-11-25T23:54:56-08:00] Processing output_files/gemini_results_temp_0.2/gemini-1.5-flash_CODE_GEN_V1_results.csv to evaluation_files/gemini_results_temp_0.2/gemini-1.5-flash_CODE_GEN_V1_results.csv\n",
      "[2024-11-26T00:00:30-08:00] Completed output_files/gemini_results_temp_0.2/gemini-1.5-flash_CODE_GEN_V1_results.csv\n",
      "[2024-11-26T00:00:30-08:00] Processing output_files/gemini_results_temp_0.2/gemini-1.5-pro_REFACTOR_V1_results.csv to evaluation_files/gemini_results_temp_0.2/gemini-1.5-pro_REFACTOR_V1_results.csv\n",
      "[2024-11-26T00:06:00-08:00] Completed output_files/gemini_results_temp_0.2/gemini-1.5-pro_REFACTOR_V1_results.csv\n",
      "[2024-11-26T00:06:00-08:00] Processing output_files/gemini_results_temp_0.2/gemini-1.5-flash_REFACTOR_V3_results.csv to evaluation_files/gemini_results_temp_0.2/gemini-1.5-flash_REFACTOR_V3_results.csv\n",
      "[2024-11-26T00:11:33-08:00] Completed output_files/gemini_results_temp_0.2/gemini-1.5-flash_REFACTOR_V3_results.csv\n",
      "[2024-11-26T00:11:33-08:00] Processing output_files/gemini_results_temp_0.2/gemini-1.5-pro_REFACTOR_V2_results.csv to evaluation_files/gemini_results_temp_0.2/gemini-1.5-pro_REFACTOR_V2_results.csv\n",
      "[2024-11-26T00:17:05-08:00] Completed output_files/gemini_results_temp_0.2/gemini-1.5-pro_REFACTOR_V2_results.csv\n",
      "[2024-11-26T00:17:05-08:00] Processing output_files/gemini_results_temp_0.2/gemini-1.5-flash_REFACTOR_V5_results.csv to evaluation_files/gemini_results_temp_0.2/gemini-1.5-flash_REFACTOR_V5_results.csv\n",
      "[2024-11-26T00:22:43-08:00] Completed output_files/gemini_results_temp_0.2/gemini-1.5-flash_REFACTOR_V5_results.csv\n",
      "[2024-11-26T00:22:43-08:00] Processing output_files/gemini_results_temp_0/gemini-1.5-flash_REFACTOR_V2_results.csv to evaluation_files/gemini_results_temp_0/gemini-1.5-flash_REFACTOR_V2_results.csv\n",
      "[2024-11-26T08:34:44-08:00] Completed output_files/gemini_results_temp_0/gemini-1.5-flash_REFACTOR_V2_results.csv\n",
      "[2024-11-26T08:34:44-08:00] Processing output_files/gemini_results_temp_0/gemini-1.5-pro_CODE_GEN_V1_results.csv to evaluation_files/gemini_results_temp_0/gemini-1.5-pro_CODE_GEN_V1_results.csv\n",
      "[2024-11-26T08:40:16-08:00] Completed output_files/gemini_results_temp_0/gemini-1.5-pro_CODE_GEN_V1_results.csv\n",
      "[2024-11-26T08:40:16-08:00] Processing output_files/gemini_results_temp_0/gemini-1.5-flash_REFACTOR_V1_results.csv to evaluation_files/gemini_results_temp_0/gemini-1.5-flash_REFACTOR_V1_results.csv\n",
      "[2024-11-26T08:45:45-08:00] Completed output_files/gemini_results_temp_0/gemini-1.5-flash_REFACTOR_V1_results.csv\n",
      "[2024-11-26T08:45:45-08:00] Processing output_files/gemini_results_temp_0/gemini-1.5-flash_CODE_GEN_V1_results.csv to evaluation_files/gemini_results_temp_0/gemini-1.5-flash_CODE_GEN_V1_results.csv\n",
      "[2024-11-26T08:51:15-08:00] Completed output_files/gemini_results_temp_0/gemini-1.5-flash_CODE_GEN_V1_results.csv\n",
      "[2024-11-26T08:51:15-08:00] Processing output_files/gemini_results_temp_0/gemini-1.5-flash_REFACTOR_V3_results.csv to evaluation_files/gemini_results_temp_0/gemini-1.5-flash_REFACTOR_V3_results.csv\n",
      "[2024-11-26T09:06:06-08:00] Completed output_files/gemini_results_temp_0/gemini-1.5-flash_REFACTOR_V3_results.csv\n",
      "[2024-11-26T09:06:06-08:00] Processing output_files/gemini_results_temp_0/gemini-1.5-flash_REFACTOR_V5_results.csv to evaluation_files/gemini_results_temp_0/gemini-1.5-flash_REFACTOR_V5_results.csv\n",
      "[2024-11-26T09:11:38-08:00] Completed output_files/gemini_results_temp_0/gemini-1.5-flash_REFACTOR_V5_results.csv\n"
     ]
    }
   ],
   "execution_count": 3
  },
  {
   "metadata": {},
   "cell_type": "code",
   "outputs": [],
   "execution_count": null,
   "source": "",
   "id": "a4ca6e2bd4115b1"
  }
 ],
 "metadata": {
  "kernelspec": {
   "display_name": "Python 3",
   "language": "python",
   "name": "python3"
  },
  "language_info": {
   "codemirror_mode": {
    "name": "ipython",
    "version": 2
   },
   "file_extension": ".py",
   "mimetype": "text/x-python",
   "name": "python",
   "nbconvert_exporter": "python",
   "pygments_lexer": "ipython2",
   "version": "2.7.6"
  }
 },
 "nbformat": 4,
 "nbformat_minor": 5
}
